{
  "nbformat": 4,
  "nbformat_minor": 0,
  "metadata": {
    "kernelspec": {
      "display_name": "Python 3",
      "language": "python",
      "name": "python3"
    },
    "language_info": {
      "codemirror_mode": {
        "name": "ipython",
        "version": 3
      },
      "file_extension": ".py",
      "mimetype": "text/x-python",
      "name": "python",
      "nbconvert_exporter": "python",
      "pygments_lexer": "ipython3",
      "version": "3.8.8"
    },
    "colab": {
      "provenance": [],
      "collapsed_sections": [
        "Itov1s1VDLNC",
        "_7lVJyT_DLNE",
        "TA9u1q9JDLNF",
        "-figeu6lDLNH",
        "-B4oKrVNDLNP",
        "mCgIuKTuDLNQ",
        "EE_zhZMKDLNb",
        "4cECU1ZnDLNe",
        "tpS-6FRXDLNf",
        "_Afi8gReDLNf",
        "4htlMKS5DLNf",
        "TPwqUQieDLNg",
        "ktbmL7WxDLNg",
        "gUkLeSW7DLNi",
        "dEt3_bAgDLNj",
        "FrAMHqNoDLNn"
      ],
      "include_colab_link": true
    }
  },
  "cells": [
    {
      "cell_type": "markdown",
      "metadata": {
        "id": "view-in-github",
        "colab_type": "text"
      },
      "source": [
        "<a href=\"https://colab.research.google.com/github/dheemen0301/landslide_prediction/blob/main/ICEM_Team2.ipynb\" target=\"_parent\"><img src=\"https://colab.research.google.com/assets/colab-badge.svg\" alt=\"Open In Colab\"/></a>"
      ]
    },
    {
      "cell_type": "markdown",
      "metadata": {
        "id": "3QnttboEzjIC"
      },
      "source": [
        "# **Landslide Prediction using ML Models**"
      ]
    },
    {
      "cell_type": "markdown",
      "metadata": {
        "id": "wud56EbVDLMb"
      },
      "source": [
        "## Import libraries\n"
      ]
    },
    {
      "cell_type": "code",
      "metadata": {
        "id": "7294H44eDLMo"
      },
      "source": [
        "import pandas as pd\n",
        "import numpy as np\n",
        "import matplotlib.pyplot as plt\n",
        "import seaborn as sns\n",
        "%matplotlib inline\n",
        "\n",
        "from sklearn.model_selection import cross_val_score\n",
        "from sklearn.model_selection import RepeatedStratifiedKFold\n",
        "from sklearn.ensemble import AdaBoostClassifier\n",
        "\n",
        "from sklearn import datasets\n",
        "from mlxtend.plotting import plot_decision_regions\n",
        "from sklearn.metrics import accuracy_score\n",
        "from sklearn.ensemble import RandomForestClassifier\n",
        "\n",
        "\n",
        "from sklearn.model_selection import train_test_split\n",
        "from sklearn.linear_model import LogisticRegression\n",
        "from sklearn.metrics import accuracy_score"
      ],
      "execution_count": null,
      "outputs": []
    },
    {
      "cell_type": "code",
      "metadata": {
        "id": "igALzjsuDLMt"
      },
      "source": [
        "import warnings\n",
        "\n",
        "warnings.filterwarnings('ignore')"
      ],
      "execution_count": null,
      "outputs": []
    },
    {
      "cell_type": "markdown",
      "metadata": {
        "id": "J5GvOcEsDLMu"
      },
      "source": [
        "## Import dataset"
      ]
    },
    {
      "cell_type": "code",
      "metadata": {
        "id": "2l8m9-ZlDLMw",
        "colab": {
          "base_uri": "https://localhost:8080/",
          "height": 418
        },
        "outputId": "36897263-0fb1-46f8-a663-da328d72b0e1"
      },
      "source": [
        "df= pd.read_csv('/content/dataset.csv')\n",
        "df"
      ],
      "execution_count": null,
      "outputs": [
        {
          "output_type": "execute_result",
          "data": {
            "text/html": [
              "<div>\n",
              "<style scoped>\n",
              "    .dataframe tbody tr th:only-of-type {\n",
              "        vertical-align: middle;\n",
              "    }\n",
              "\n",
              "    .dataframe tbody tr th {\n",
              "        vertical-align: top;\n",
              "    }\n",
              "\n",
              "    .dataframe thead th {\n",
              "        text-align: right;\n",
              "    }\n",
              "</style>\n",
              "<table border=\"1\" class=\"dataframe\">\n",
              "  <thead>\n",
              "    <tr style=\"text-align: right;\">\n",
              "      <th></th>\n",
              "      <th>Gradient</th>\n",
              "      <th>Soil Density</th>\n",
              "      <th>Angle of friction</th>\n",
              "      <th>Rainfall</th>\n",
              "      <th>Cohesion</th>\n",
              "      <th>Soil water density</th>\n",
              "      <th>Soil depth</th>\n",
              "      <th>Water table height</th>\n",
              "      <th>FOS</th>\n",
              "      <th>Labels</th>\n",
              "    </tr>\n",
              "  </thead>\n",
              "  <tbody>\n",
              "    <tr>\n",
              "      <th>0</th>\n",
              "      <td>46.68023</td>\n",
              "      <td>1633.958</td>\n",
              "      <td>39.43535</td>\n",
              "      <td>3.041270</td>\n",
              "      <td>25864.82</td>\n",
              "      <td>999.2995</td>\n",
              "      <td>0.838166</td>\n",
              "      <td>13.344470</td>\n",
              "      <td>-2.919169</td>\n",
              "      <td>0</td>\n",
              "    </tr>\n",
              "    <tr>\n",
              "      <th>1</th>\n",
              "      <td>48.04759</td>\n",
              "      <td>1635.787</td>\n",
              "      <td>38.39624</td>\n",
              "      <td>1.623614</td>\n",
              "      <td>26680.68</td>\n",
              "      <td>999.1272</td>\n",
              "      <td>1.538349</td>\n",
              "      <td>12.152730</td>\n",
              "      <td>-2.897806</td>\n",
              "      <td>0</td>\n",
              "    </tr>\n",
              "    <tr>\n",
              "      <th>2</th>\n",
              "      <td>47.22329</td>\n",
              "      <td>1632.190</td>\n",
              "      <td>41.50728</td>\n",
              "      <td>2.956693</td>\n",
              "      <td>27234.78</td>\n",
              "      <td>997.4685</td>\n",
              "      <td>1.105802</td>\n",
              "      <td>13.943610</td>\n",
              "      <td>-2.405232</td>\n",
              "      <td>0</td>\n",
              "    </tr>\n",
              "    <tr>\n",
              "      <th>3</th>\n",
              "      <td>49.46063</td>\n",
              "      <td>1638.188</td>\n",
              "      <td>41.42968</td>\n",
              "      <td>4.529075</td>\n",
              "      <td>26479.64</td>\n",
              "      <td>994.7508</td>\n",
              "      <td>1.081990</td>\n",
              "      <td>14.953960</td>\n",
              "      <td>-2.303489</td>\n",
              "      <td>0</td>\n",
              "    </tr>\n",
              "    <tr>\n",
              "      <th>4</th>\n",
              "      <td>46.29549</td>\n",
              "      <td>1635.286</td>\n",
              "      <td>42.11473</td>\n",
              "      <td>5.435667</td>\n",
              "      <td>28361.62</td>\n",
              "      <td>995.9581</td>\n",
              "      <td>1.178115</td>\n",
              "      <td>13.527950</td>\n",
              "      <td>-2.174276</td>\n",
              "      <td>0</td>\n",
              "    </tr>\n",
              "    <tr>\n",
              "      <th>...</th>\n",
              "      <td>...</td>\n",
              "      <td>...</td>\n",
              "      <td>...</td>\n",
              "      <td>...</td>\n",
              "      <td>...</td>\n",
              "      <td>...</td>\n",
              "      <td>...</td>\n",
              "      <td>...</td>\n",
              "      <td>...</td>\n",
              "      <td>...</td>\n",
              "    </tr>\n",
              "    <tr>\n",
              "      <th>489</th>\n",
              "      <td>48.25859</td>\n",
              "      <td>1635.774</td>\n",
              "      <td>41.38808</td>\n",
              "      <td>3.979510</td>\n",
              "      <td>26865.59</td>\n",
              "      <td>995.8357</td>\n",
              "      <td>6.748164</td>\n",
              "      <td>10.169970</td>\n",
              "      <td>1.562052</td>\n",
              "      <td>1</td>\n",
              "    </tr>\n",
              "    <tr>\n",
              "      <th>490</th>\n",
              "      <td>47.19682</td>\n",
              "      <td>1636.783</td>\n",
              "      <td>40.12434</td>\n",
              "      <td>1.083666</td>\n",
              "      <td>27118.18</td>\n",
              "      <td>996.8714</td>\n",
              "      <td>5.406644</td>\n",
              "      <td>9.459510</td>\n",
              "      <td>1.575393</td>\n",
              "      <td>1</td>\n",
              "    </tr>\n",
              "    <tr>\n",
              "      <th>491</th>\n",
              "      <td>48.26496</td>\n",
              "      <td>1635.336</td>\n",
              "      <td>38.28045</td>\n",
              "      <td>2.108769</td>\n",
              "      <td>27635.85</td>\n",
              "      <td>996.0782</td>\n",
              "      <td>4.284012</td>\n",
              "      <td>8.798867</td>\n",
              "      <td>1.632755</td>\n",
              "      <td>1</td>\n",
              "    </tr>\n",
              "    <tr>\n",
              "      <th>492</th>\n",
              "      <td>48.22114</td>\n",
              "      <td>1635.283</td>\n",
              "      <td>39.06771</td>\n",
              "      <td>3.603837</td>\n",
              "      <td>27086.90</td>\n",
              "      <td>996.1637</td>\n",
              "      <td>5.633115</td>\n",
              "      <td>8.318414</td>\n",
              "      <td>1.676139</td>\n",
              "      <td>1</td>\n",
              "    </tr>\n",
              "    <tr>\n",
              "      <th>493</th>\n",
              "      <td>45.74900</td>\n",
              "      <td>1634.843</td>\n",
              "      <td>39.61359</td>\n",
              "      <td>1.981901</td>\n",
              "      <td>27142.20</td>\n",
              "      <td>996.4854</td>\n",
              "      <td>4.370974</td>\n",
              "      <td>7.411243</td>\n",
              "      <td>1.747634</td>\n",
              "      <td>1</td>\n",
              "    </tr>\n",
              "  </tbody>\n",
              "</table>\n",
              "<p>494 rows × 10 columns</p>\n",
              "</div>"
            ],
            "text/plain": [
              "     Gradient  Soil Density  ...       FOS  Labels\n",
              "0    46.68023      1633.958  ... -2.919169       0\n",
              "1    48.04759      1635.787  ... -2.897806       0\n",
              "2    47.22329      1632.190  ... -2.405232       0\n",
              "3    49.46063      1638.188  ... -2.303489       0\n",
              "4    46.29549      1635.286  ... -2.174276       0\n",
              "..        ...           ...  ...       ...     ...\n",
              "489  48.25859      1635.774  ...  1.562052       1\n",
              "490  47.19682      1636.783  ...  1.575393       1\n",
              "491  48.26496      1635.336  ...  1.632755       1\n",
              "492  48.22114      1635.283  ...  1.676139       1\n",
              "493  45.74900      1634.843  ...  1.747634       1\n",
              "\n",
              "[494 rows x 10 columns]"
            ]
          },
          "metadata": {},
          "execution_count": 262
        }
      ]
    },
    {
      "cell_type": "code",
      "metadata": {
        "id": "1PMX_X-8DLM1",
        "colab": {
          "base_uri": "https://localhost:8080/"
        },
        "outputId": "a454c2f2-f678-457f-bf63-d2e614ecfabe"
      },
      "source": [
        "# view dimensions of dataset\n",
        "\n",
        "df.shape"
      ],
      "execution_count": null,
      "outputs": [
        {
          "output_type": "execute_result",
          "data": {
            "text/plain": [
              "(494, 10)"
            ]
          },
          "metadata": {},
          "execution_count": 263
        }
      ]
    },
    {
      "cell_type": "markdown",
      "metadata": {
        "id": "31bCmiXcDLM4"
      },
      "source": [
        "There are 10 variables in the dataset. 8 are feature vectors. FOS(Factor of Safety) was calculated using the feature values. The discrete variable is `Labels` variable. It is also the target variable.The labels used are 0 (negative) and 1 (positive)."
      ]
    },
    {
      "cell_type": "code",
      "metadata": {
        "id": "US8nmwBYDLM6",
        "colab": {
          "base_uri": "https://localhost:8080/"
        },
        "outputId": "60e9d9cf-6c4d-4139-e66b-e643fd32c9de"
      },
      "source": [
        "col_names = df.columns\n",
        "col_names"
      ],
      "execution_count": null,
      "outputs": [
        {
          "output_type": "execute_result",
          "data": {
            "text/plain": [
              "Index(['Gradient', 'Soil Density', 'Angle of friction', 'Rainfall', 'Cohesion',\n",
              "       'Soil water density', 'Soil depth', 'Water table height', 'FOS',\n",
              "       'Labels'],\n",
              "      dtype='object')"
            ]
          },
          "metadata": {},
          "execution_count": 264
        }
      ]
    },
    {
      "cell_type": "code",
      "metadata": {
        "id": "NCtuTT_jDLM9",
        "colab": {
          "base_uri": "https://localhost:8080/"
        },
        "outputId": "22ed12af-7769-4568-e184-5b353ee2dd07"
      },
      "source": [
        "# check distribution of Labels column\n",
        "df['Labels'].value_counts()"
      ],
      "execution_count": null,
      "outputs": [
        {
          "output_type": "execute_result",
          "data": {
            "text/plain": [
              "0    316\n",
              "1    178\n",
              "Name: Labels, dtype: int64"
            ]
          },
          "metadata": {},
          "execution_count": 265
        }
      ]
    },
    {
      "cell_type": "code",
      "metadata": {
        "id": "8TEE9MfvDLM-",
        "colab": {
          "base_uri": "https://localhost:8080/"
        },
        "outputId": "54f70b17-0465-47ec-ecfb-a36d12ad6cb4"
      },
      "source": [
        "# view the percentage distribution of Labels column\n",
        "df['Labels'].value_counts()/np.float(len(df))"
      ],
      "execution_count": null,
      "outputs": [
        {
          "output_type": "execute_result",
          "data": {
            "text/plain": [
              "0    0.639676\n",
              "1    0.360324\n",
              "Name: Labels, dtype: float64"
            ]
          },
          "metadata": {},
          "execution_count": 266
        }
      ]
    },
    {
      "cell_type": "markdown",
      "metadata": {
        "id": "RSjLz9QIDLM-"
      },
      "source": [
        "The percentage of observations of the class label `0` and `1` is 63.97% and 36.03%. So, the class is imbalanced."
      ]
    },
    {
      "cell_type": "code",
      "metadata": {
        "id": "4UcxOQP2DLM-",
        "colab": {
          "base_uri": "https://localhost:8080/"
        },
        "outputId": "766c285d-b6e8-4794-9802-ebe1f4721028"
      },
      "source": [
        "df.info()"
      ],
      "execution_count": null,
      "outputs": [
        {
          "output_type": "stream",
          "name": "stdout",
          "text": [
            "<class 'pandas.core.frame.DataFrame'>\n",
            "RangeIndex: 494 entries, 0 to 493\n",
            "Data columns (total 10 columns):\n",
            " #   Column              Non-Null Count  Dtype  \n",
            "---  ------              --------------  -----  \n",
            " 0   Gradient            494 non-null    float64\n",
            " 1   Soil Density        494 non-null    float64\n",
            " 2   Angle of friction   494 non-null    float64\n",
            " 3   Rainfall            494 non-null    float64\n",
            " 4   Cohesion            494 non-null    float64\n",
            " 5   Soil water density  494 non-null    float64\n",
            " 6   Soil depth          494 non-null    float64\n",
            " 7   Water table height  494 non-null    float64\n",
            " 8   FOS                 494 non-null    float64\n",
            " 9   Labels              494 non-null    int64  \n",
            "dtypes: float64(9), int64(1)\n",
            "memory usage: 38.7 KB\n"
          ]
        }
      ]
    },
    {
      "cell_type": "markdown",
      "metadata": {
        "id": "tJN9ZGGEDLNA"
      },
      "source": [
        "There are no missing values in the dataset as the Non-Null count is equal to the total no of examples."
      ]
    },
    {
      "cell_type": "code",
      "metadata": {
        "id": "NzTxbHddDLNC",
        "colab": {
          "base_uri": "https://localhost:8080/",
          "height": 296
        },
        "outputId": "9737e85c-6943-4162-b366-099d4ead3a57"
      },
      "source": [
        "round(df.describe(),2)"
      ],
      "execution_count": null,
      "outputs": [
        {
          "output_type": "execute_result",
          "data": {
            "text/html": [
              "<div>\n",
              "<style scoped>\n",
              "    .dataframe tbody tr th:only-of-type {\n",
              "        vertical-align: middle;\n",
              "    }\n",
              "\n",
              "    .dataframe tbody tr th {\n",
              "        vertical-align: top;\n",
              "    }\n",
              "\n",
              "    .dataframe thead th {\n",
              "        text-align: right;\n",
              "    }\n",
              "</style>\n",
              "<table border=\"1\" class=\"dataframe\">\n",
              "  <thead>\n",
              "    <tr style=\"text-align: right;\">\n",
              "      <th></th>\n",
              "      <th>Gradient</th>\n",
              "      <th>Soil Density</th>\n",
              "      <th>Angle of friction</th>\n",
              "      <th>Rainfall</th>\n",
              "      <th>Cohesion</th>\n",
              "      <th>Soil water density</th>\n",
              "      <th>Soil depth</th>\n",
              "      <th>Water table height</th>\n",
              "      <th>FOS</th>\n",
              "      <th>Labels</th>\n",
              "    </tr>\n",
              "  </thead>\n",
              "  <tbody>\n",
              "    <tr>\n",
              "      <th>count</th>\n",
              "      <td>494.00</td>\n",
              "      <td>494.00</td>\n",
              "      <td>494.00</td>\n",
              "      <td>494.00</td>\n",
              "      <td>494.00</td>\n",
              "      <td>494.00</td>\n",
              "      <td>494.00</td>\n",
              "      <td>494.00</td>\n",
              "      <td>494.00</td>\n",
              "      <td>494.00</td>\n",
              "    </tr>\n",
              "    <tr>\n",
              "      <th>mean</th>\n",
              "      <td>47.47</td>\n",
              "      <td>1635.48</td>\n",
              "      <td>39.57</td>\n",
              "      <td>3.50</td>\n",
              "      <td>26980.34</td>\n",
              "      <td>997.39</td>\n",
              "      <td>3.55</td>\n",
              "      <td>12.52</td>\n",
              "      <td>0.19</td>\n",
              "      <td>0.36</td>\n",
              "    </tr>\n",
              "    <tr>\n",
              "      <th>std</th>\n",
              "      <td>1.46</td>\n",
              "      <td>1.58</td>\n",
              "      <td>1.52</td>\n",
              "      <td>1.41</td>\n",
              "      <td>576.45</td>\n",
              "      <td>1.49</td>\n",
              "      <td>1.32</td>\n",
              "      <td>1.36</td>\n",
              "      <td>1.03</td>\n",
              "      <td>0.48</td>\n",
              "    </tr>\n",
              "    <tr>\n",
              "      <th>min</th>\n",
              "      <td>42.75</td>\n",
              "      <td>1629.35</td>\n",
              "      <td>34.89</td>\n",
              "      <td>0.02</td>\n",
              "      <td>24971.20</td>\n",
              "      <td>993.81</td>\n",
              "      <td>0.76</td>\n",
              "      <td>7.41</td>\n",
              "      <td>-2.92</td>\n",
              "      <td>0.00</td>\n",
              "    </tr>\n",
              "    <tr>\n",
              "      <th>25%</th>\n",
              "      <td>46.52</td>\n",
              "      <td>1634.43</td>\n",
              "      <td>38.51</td>\n",
              "      <td>2.47</td>\n",
              "      <td>26608.87</td>\n",
              "      <td>996.35</td>\n",
              "      <td>2.62</td>\n",
              "      <td>11.62</td>\n",
              "      <td>-0.19</td>\n",
              "      <td>0.00</td>\n",
              "    </tr>\n",
              "    <tr>\n",
              "      <th>50%</th>\n",
              "      <td>47.39</td>\n",
              "      <td>1635.55</td>\n",
              "      <td>39.43</td>\n",
              "      <td>3.49</td>\n",
              "      <td>26954.99</td>\n",
              "      <td>997.33</td>\n",
              "      <td>3.47</td>\n",
              "      <td>12.45</td>\n",
              "      <td>0.09</td>\n",
              "      <td>0.00</td>\n",
              "    </tr>\n",
              "    <tr>\n",
              "      <th>75%</th>\n",
              "      <td>48.43</td>\n",
              "      <td>1636.54</td>\n",
              "      <td>40.88</td>\n",
              "      <td>4.52</td>\n",
              "      <td>27384.85</td>\n",
              "      <td>998.28</td>\n",
              "      <td>4.41</td>\n",
              "      <td>13.27</td>\n",
              "      <td>1.26</td>\n",
              "      <td>1.00</td>\n",
              "    </tr>\n",
              "    <tr>\n",
              "      <th>max</th>\n",
              "      <td>51.62</td>\n",
              "      <td>1640.22</td>\n",
              "      <td>43.61</td>\n",
              "      <td>7.95</td>\n",
              "      <td>28595.96</td>\n",
              "      <td>1003.48</td>\n",
              "      <td>8.42</td>\n",
              "      <td>16.55</td>\n",
              "      <td>1.75</td>\n",
              "      <td>1.00</td>\n",
              "    </tr>\n",
              "  </tbody>\n",
              "</table>\n",
              "</div>"
            ],
            "text/plain": [
              "       Gradient  Soil Density  ...     FOS  Labels\n",
              "count    494.00        494.00  ...  494.00  494.00\n",
              "mean      47.47       1635.48  ...    0.19    0.36\n",
              "std        1.46          1.58  ...    1.03    0.48\n",
              "min       42.75       1629.35  ...   -2.92    0.00\n",
              "25%       46.52       1634.43  ...   -0.19    0.00\n",
              "50%       47.39       1635.55  ...    0.09    0.00\n",
              "75%       48.43       1636.54  ...    1.26    1.00\n",
              "max       51.62       1640.22  ...    1.75    1.00\n",
              "\n",
              "[8 rows x 10 columns]"
            ]
          },
          "metadata": {},
          "execution_count": 268
        }
      ]
    },
    {
      "cell_type": "markdown",
      "metadata": {
        "id": "Itov1s1VDLNC"
      },
      "source": [
        "### Outliers in numerical variables"
      ]
    },
    {
      "cell_type": "code",
      "metadata": {
        "id": "By8m3AnBDLND",
        "colab": {
          "base_uri": "https://localhost:8080/"
        },
        "outputId": "8c1831b4-a764-4458-d587-d1c59eb2700c"
      },
      "source": [
        "# draw boxplots to visualize outliers\n",
        "\n",
        "plt.figure(figsize=(24,20))\n",
        "\n",
        "\n",
        "plt.subplot(4, 2, 1)\n",
        "fig = df.boxplot(column='Gradient')\n",
        "fig.set_title('')\n",
        "fig.set_ylabel('Gradient')\n",
        "\n",
        "\n",
        "plt.subplot(4, 2, 2)\n",
        "fig = df.boxplot(column='Soil Density')\n",
        "fig.set_title('')\n",
        "fig.set_ylabel('Soil Density')\n",
        "\n",
        "\n",
        "plt.subplot(4, 2, 3)\n",
        "fig = df.boxplot(column='Angle of friction')\n",
        "fig.set_title('')\n",
        "fig.set_ylabel('Angle of friction')\n",
        "\n",
        "\n",
        "plt.subplot(4, 2, 4)\n",
        "fig = df.boxplot(column='Rainfall')\n",
        "fig.set_title('')\n",
        "fig.set_ylabel('Rainfall')\n",
        "\n",
        "\n",
        "plt.subplot(4, 2, 5)\n",
        "fig = df.boxplot(column='Cohesion')\n",
        "fig.set_title('')\n",
        "fig.set_ylabel('Cohesion')\n",
        "\n",
        "\n",
        "plt.subplot(4, 2, 6)\n",
        "fig = df.boxplot(column='Soil water density')\n",
        "fig.set_title('')\n",
        "fig.set_ylabel('Soil water density')\n",
        "\n",
        "\n",
        "plt.subplot(4, 2, 7)\n",
        "fig = df.boxplot(column='Soil depth')\n",
        "fig.set_title('')\n",
        "fig.set_ylabel('Soil depth')\n",
        "\n",
        "\n",
        "plt.subplot(4, 2, 8)\n",
        "fig = df.boxplot(column='Water table height')\n",
        "fig.set_title('')\n",
        "fig.set_ylabel('Water table height')"
      ],
      "execution_count": null,
      "outputs": [
        {
          "output_type": "execute_result",
          "data": {
            "text/plain": [
              "Text(0, 0.5, 'Water table height')"
            ]
          },
          "metadata": {},
          "execution_count": 269
        },
        {
          "output_type": "display_data",
          "data": {
            "image/png": "[encoded data removed]",
            "text/plain": [
              "<Figure size 1728x1440 with 8 Axes>"
            ]
          },
          "metadata": {
            "needs_background": "light"
          }
        }
      ]
    },
    {
      "cell_type": "markdown",
      "metadata": {
        "id": "8M_YMcG8DLNE"
      },
      "source": [
        "The above boxplots confirm that there are lot of outliers in these variables."
      ]
    },
    {
      "cell_type": "markdown",
      "metadata": {
        "id": "_7lVJyT_DLNE"
      },
      "source": [
        "### Handle outliers with SVMs\n",
        "\n",
        "\n",
        "There are 2 variants of SVMs. They are `hard-margin variant of SVM` and `soft-margin variant of SVM`.\n",
        "\n",
        "\n",
        "The `hard-margin variant of SVM` does not deal with outliers. In this case, we want to find the hyperplane with maximum margin such that every training point is correctly classified with margin at least 1. This technique does not handle outliers well.\n",
        "\n",
        "\n",
        "Another version of SVM is called `soft-margin variant of SVM`. In this case, we can have a few points incorrectly classified or \n",
        "classified with a margin less than 1. But for every such point, we have to pay a penalty in the form of `C` parameter, which controls the outliers. `Low C` implies we are allowing more outliers and `high C` implies less outliers.\n",
        "\n",
        "\n",
        "The message is that since the dataset contains outliers, so the value of C should be high while training the model."
      ]
    },
    {
      "cell_type": "markdown",
      "metadata": {
        "id": "TA9u1q9JDLNF"
      },
      "source": [
        "### Check the distribution of variables\n"
      ]
    },
    {
      "cell_type": "code",
      "metadata": {
        "id": "7THbZaL5DLNF",
        "colab": {
          "base_uri": "https://localhost:8080/"
        },
        "outputId": "b0f5e423-d656-4daf-9382-d6865423210a"
      },
      "source": [
        "# plot histogram to check distribution\n",
        "\n",
        "\n",
        "plt.figure(figsize=(24,20))\n",
        "\n",
        "\n",
        "plt.subplot(4, 2, 1)\n",
        "fig = df['Gradient'].hist(bins=20)\n",
        "fig.set_xlabel('Gradient')\n",
        "\n",
        "\n",
        "\n",
        "plt.subplot(4, 2, 2)\n",
        "fig = df['Soil Density'].hist(bins=20)\n",
        "fig.set_xlabel('Soil Density')\n",
        "\n",
        "\n",
        "\n",
        "plt.subplot(4, 2, 3)\n",
        "fig = df['Angle of friction'].hist(bins=20)\n",
        "fig.set_xlabel('Angle of friction')\n",
        "\n",
        "\n",
        "\n",
        "\n",
        "plt.subplot(4, 2, 4)\n",
        "fig = df['Rainfall'].hist(bins=20)\n",
        "fig.set_xlabel('Rainfall')\n",
        "\n",
        "\n",
        "\n",
        "\n",
        "plt.subplot(4, 2, 5)\n",
        "fig = df['Cohesion'].hist(bins=20)\n",
        "fig.set_xlabel('Cohesion')\n",
        "\n",
        "\n",
        "\n",
        "\n",
        "plt.subplot(4, 2, 6)\n",
        "fig = df['Soil water density'].hist(bins=20)\n",
        "fig.set_xlabel('Soil water density')\n",
        "\n",
        "\n",
        "\n",
        "\n",
        "plt.subplot(4, 2, 7)\n",
        "fig = df['Soil depth'].hist(bins=20)\n",
        "fig.set_xlabel('Soil depth')\n",
        "\n",
        "\n",
        "\n",
        "plt.subplot(4, 2, 8)\n",
        "fig = df['Water table height'].hist(bins=20)\n",
        "fig.set_xlabel('Water table height')\n",
        "\n"
      ],
      "execution_count": null,
      "outputs": [
        {
          "output_type": "execute_result",
          "data": {
            "text/plain": [
              "Text(0.5, 0, 'Water table height')"
            ]
          },
          "metadata": {},
          "execution_count": 270
        },
        {
          "output_type": "display_data",
          "data": {
            "image/png": "[encoded data removed]",
            "text/plain": [
              "<Figure size 1728x1440 with 8 Axes>"
            ]
          },
          "metadata": {
            "needs_background": "light"
          }
        }
      ]
    },
    {
      "cell_type": "markdown",
      "metadata": {
        "id": "Qr2qTLePDLNF"
      },
      "source": [
        "All the 8 features are skewed. "
      ]
    },
    {
      "cell_type": "markdown",
      "metadata": {
        "id": "p25uL4wUDLNF"
      },
      "source": [
        "## 9. Declare feature vector and target variable"
      ]
    },
    {
      "cell_type": "code",
      "metadata": {
        "id": "P9CJpXWTDLNG"
      },
      "source": [
        "X = df.drop(columns = ['FOS','Labels'], axis=1)\n",
        "y = df['Labels']"
      ],
      "execution_count": null,
      "outputs": []
    },
    {
      "cell_type": "markdown",
      "metadata": {
        "id": "OthWjF3_DLNG"
      },
      "source": [
        "## 10. Split data into separate training and test set"
      ]
    },
    {
      "cell_type": "code",
      "metadata": {
        "id": "lvZ4-p2xDLNG"
      },
      "source": [
        "# split X and y into training and testing sets\n",
        "X_train, X_test, y_train, y_test = train_test_split(X, y, test_size = 0.2,stratify=y, random_state = 80)\n",
        "#X_train, X_test, y_train, y_test = train_test_split(X,y, test_size = 0.2, stratify=y, random_state=42)"
      ],
      "execution_count": null,
      "outputs": []
    },
    {
      "cell_type": "code",
      "metadata": {
        "id": "mviEN4ldDLNG",
        "colab": {
          "base_uri": "https://localhost:8080/"
        },
        "outputId": "6b6a143d-ddda-4ab2-b32f-3c1d00a1c0ab"
      },
      "source": [
        "X_train.shape, X_test.shape"
      ],
      "execution_count": null,
      "outputs": [
        {
          "output_type": "execute_result",
          "data": {
            "text/plain": [
              "((395, 8), (99, 8))"
            ]
          },
          "metadata": {},
          "execution_count": 273
        }
      ]
    },
    {
      "cell_type": "markdown",
      "metadata": {
        "id": "-figeu6lDLNH"
      },
      "source": [
        "## 11. Feature Scaling"
      ]
    },
    {
      "cell_type": "code",
      "metadata": {
        "id": "x7s2Ym6RDLNH"
      },
      "source": [
        "cols = X_train.columns\n",
        "from sklearn.preprocessing import StandardScaler\n",
        "\n",
        "scaler = StandardScaler()\n",
        "\n",
        "X_train = scaler.fit_transform(X_train)\n",
        "\n",
        "X_test = scaler.transform(X_test)\n"
      ],
      "execution_count": null,
      "outputs": []
    },
    {
      "cell_type": "code",
      "metadata": {
        "id": "_mZCLPXrDLNI"
      },
      "source": [
        "X_train = pd.DataFrame(X_train, columns=[cols])"
      ],
      "execution_count": null,
      "outputs": []
    },
    {
      "cell_type": "code",
      "metadata": {
        "id": "CpkKHnqGDLNI"
      },
      "source": [
        "X_test = pd.DataFrame(X_test, columns=[cols])"
      ],
      "execution_count": null,
      "outputs": []
    },
    {
      "cell_type": "markdown",
      "metadata": {
        "id": "Y52wbJVQFifI"
      },
      "source": [
        "# LOGISTIC REGRESSION"
      ]
    },
    {
      "cell_type": "code",
      "metadata": {
        "id": "HMgXh8_MFmYU",
        "colab": {
          "base_uri": "https://localhost:8080/"
        },
        "outputId": "0ea5b510-8906-408b-bcde-bd5ab790d9ba"
      },
      "source": [
        "model = LogisticRegression()\n",
        "model.fit(X_train, y_train)\n",
        "X_train_prediction = model.predict(X_train)\n",
        "training_data_accuracy = accuracy_score(X_train_prediction, y_train) \n",
        "print('Accuracy on training data : ', training_data_accuracy)\n",
        "X_test_prediction = model.predict(X_test)\n",
        "pred_log=X_test_prediction\n",
        "test_data_accuracy = accuracy_score(X_test_prediction, y_test)\n",
        "acc_log=test_data_accuracy \n",
        "print('Accuracy on test data : ', test_data_accuracy)"
      ],
      "execution_count": null,
      "outputs": [
        {
          "output_type": "stream",
          "name": "stdout",
          "text": [
            "Accuracy on training data :  0.979746835443038\n",
            "Accuracy on test data :  0.9696969696969697\n"
          ]
        }
      ]
    },
    {
      "cell_type": "markdown",
      "metadata": {
        "id": "RJYkOrCzGKmk"
      },
      "source": [
        "# RANDOM FOREST"
      ]
    },
    {
      "cell_type": "code",
      "metadata": {
        "colab": {
          "base_uri": "https://localhost:8080/"
        },
        "id": "PBvA1FJrGKNm",
        "outputId": "7a3651c9-6f31-4f54-80b7-8022665d3f9b"
      },
      "source": [
        "forest = RandomForestClassifier(criterion='gini', n_estimators=4, random_state=42, n_jobs=2)\n",
        "forest.fit(X_train, y_train)\n",
        "X_train_prediction = forest.predict(X_train)\n",
        "training_data_accuracy = accuracy_score(X_train_prediction, y_train) \n",
        "print('Accuracy on training data : ', training_data_accuracy)\n",
        "X_test_prediction = forest.predict(X_test)\n",
        "pred_rand=X_test_prediction\n",
        "test_data_accuracy = accuracy_score(y_test,X_test_prediction) \n",
        "acc_rand=test_data_accuracy\n",
        "print('Accuracy on test data : ', test_data_accuracy)\n",
        "#y_pred = forest.predict(X_test)\n",
        "#print('Accuracy: %.3f' % accuracy_score(y_test, y_pred))"
      ],
      "execution_count": null,
      "outputs": [
        {
          "output_type": "stream",
          "name": "stdout",
          "text": [
            "Accuracy on training data :  0.9569620253164557\n",
            "Accuracy on test data :  0.8686868686868687\n"
          ]
        }
      ]
    },
    {
      "cell_type": "markdown",
      "metadata": {
        "id": "ix82Nqw4FTsK"
      },
      "source": [
        "# ADABOOST "
      ]
    },
    {
      "cell_type": "code",
      "metadata": {
        "id": "7upByTzOFOBS",
        "colab": {
          "base_uri": "https://localhost:8080/"
        },
        "outputId": "31c305f6-e097-42e4-bf51-69c40f662017"
      },
      "source": [
        "def get_models():\n",
        "\tmodels = dict()\n",
        "\t# define number of trees to consider\n",
        "\tn_trees = [10, 50, 100, 500, 1000]\n",
        "\tfor n in n_trees:\n",
        "\t\tmodels[str(n)] = AdaBoostClassifier(n_estimators=n)\n",
        "\treturn models\n",
        " \n",
        "# evaluate a given model using cross-validation\n",
        "def evaluate_model(model, X, y):\n",
        "\t# define the evaluation procedure\n",
        "\tcv = RepeatedStratifiedKFold(n_splits=5, n_repeats=3, random_state=42)\n",
        "\t# evaluate the model and collect the results\n",
        "\tscores = cross_val_score(model, X, y, scoring='accuracy', cv=cv)\n",
        "\treturn scores\n",
        " \n",
        "# get the models to evaluate\n",
        "models = get_models()\n",
        "# evaluate the models and store results\n",
        "results, names = list(), list()\n",
        "for name, model in models.items():\n",
        "\t# evaluate the model\n",
        "\tscores = evaluate_model(model, X, y)\n",
        "\t# store the results\n",
        "\tresults.append(scores)\n",
        "\tnames.append(name)\n",
        "\t# summarize the performance along the way\n",
        "\tprint('>%s %.4f' % (name, np.mean(scores)))"
      ],
      "execution_count": null,
      "outputs": [
        {
          "output_type": "stream",
          "name": "stdout",
          "text": [
            ">10 0.8914\n",
            ">50 0.9265\n",
            ">100 0.9345\n",
            ">500 0.9359\n",
            ">1000 0.9359\n"
          ]
        }
      ]
    },
    {
      "cell_type": "code",
      "metadata": {
        "id": "Bw8HGulmWwnv"
      },
      "source": [
        "#Since accuracy of 1000 trees is highest, predicting labels for the model with 1000 trees\n",
        "model = AdaBoostClassifier(n_estimators=1000)\n",
        "# fit the model on the whole dataset\n",
        "model.fit(X_train, y_train)\n",
        "# Prediction\n",
        "y_pred = model.predict(X_test)\n",
        "pred_adab=y_pred\n",
        "acc_adab=0.9359"
      ],
      "execution_count": null,
      "outputs": []
    },
    {
      "cell_type": "code",
      "metadata": {
        "id": "1MuJMDWgHiXx"
      },
      "source": [],
      "execution_count": null,
      "outputs": []
    },
    {
      "cell_type": "markdown",
      "metadata": {
        "id": "YsaCIKV6DLNJ"
      },
      "source": [
        "## Run SVM with rbf kernel and C=1.0, 10.0, 100.0, 1000.0 and gamma=`auto` among other parameters."
      ]
    },
    {
      "cell_type": "code",
      "metadata": {
        "id": "yoFBo4doDLNK",
        "colab": {
          "base_uri": "https://localhost:8080/"
        },
        "outputId": "82ca419a-6a94-4936-dc11-7463c2184d19"
      },
      "source": [
        "# import SVC classifier\n",
        "from sklearn.svm import SVC\n",
        "# import metrics to compute accuracy\n",
        "from sklearn.metrics import accuracy_score\n",
        "\n",
        "\n",
        "#C=1.0\n",
        "svc=SVC()\n",
        "svc.fit(X_train,y_train)\n",
        "y_pred=svc.predict(X_test)\n",
        "print('Model accuracy score with default hyperparameters: {0:0.4f}'. format(accuracy_score(y_test, y_pred)))\n",
        "\n",
        "#C=10.0\n",
        "svc=SVC(C=10.0) \n",
        "svc.fit(X_train,y_train)\n",
        "y_pred=svc.predict(X_test)\n",
        "print('Model accuracy score with rbf kernel and C=10.0 : {0:0.4f}'. format(accuracy_score(y_test, y_pred)))\n",
        "\n",
        "#C=100.0\n",
        "svc=SVC(C=100.0) \n",
        "svc.fit(X_train,y_train)\n",
        "y_pred=svc.predict(X_test)\n",
        "print('Model accuracy score with rbf kernel and C=100.0 : {0:0.4f}'. format(accuracy_score(y_test, y_pred)))\n",
        "\n",
        "#C=1000\n",
        "svc=SVC(C=1000.0) \n",
        "svc.fit(X_train,y_train)\n",
        "y_pred=svc.predict(X_test)\n",
        "print('Model accuracy score with rbf kernel and C=1000.0 : {0:0.4f}'. format(accuracy_score(y_test, y_pred)))"
      ],
      "execution_count": null,
      "outputs": [
        {
          "output_type": "stream",
          "name": "stdout",
          "text": [
            "Model accuracy score with default hyperparameters: 0.9394\n",
            "Model accuracy score with rbf kernel and C=10.0 : 0.8889\n",
            "Model accuracy score with rbf kernel and C=100.0 : 0.8889\n",
            "Model accuracy score with rbf kernel and C=1000.0 : 0.8889\n"
          ]
        }
      ]
    },
    {
      "cell_type": "markdown",
      "metadata": {
        "id": "-amtYO-0DLNM"
      },
      "source": [
        "## 13. Run SVM with linear kernel and C=1.0, 10.0, 100.0, 1000.0\n"
      ]
    },
    {
      "cell_type": "code",
      "metadata": {
        "id": "iPcxrXFJDLNM",
        "colab": {
          "base_uri": "https://localhost:8080/"
        },
        "outputId": "b5a23efd-2734-46b4-a0e9-f58e1b43870e"
      },
      "source": [
        "#C=1.0\n",
        "linear_svc=SVC(kernel='linear', C=1.0) \n",
        "linear_svc.fit(X_train,y_train)\n",
        "y_pred_test=linear_svc.predict(X_test)\n",
        "pred_svm=y_pred_test\n",
        "acc_svm=(accuracy_score(y_test, y_pred_test))\n",
        "print(acc_svm)\n",
        "print('Model accuracy score with linear kernel and C=1.0 : {0:0.4f}'. format(accuracy_score(y_test, y_pred_test)))\n",
        "\n",
        "\n",
        "#C=10.0\n",
        "linear_svc10=SVC(kernel='linear', C=10.0) \n",
        "linear_svc10.fit(X_train, y_train)\n",
        "y_pred=linear_svc10.predict(X_test)\n",
        "print('Model accuracy score with linear kernel and C=10.0 : {0:0.4f}'. format(accuracy_score(y_test, y_pred)))\n",
        "\n",
        "\n",
        "#c=100.0\n",
        "linear_svc100=SVC(kernel='linear', C=100.0) \n",
        "linear_svc100.fit(X_train, y_train)\n",
        "y_pred=linear_svc100.predict(X_test)\n",
        "print('Model accuracy score with linear kernel and C=100.0 : {0:0.4f}'. format(accuracy_score(y_test, y_pred)))\n",
        "\n",
        "\n",
        "#C=1000.0\n",
        "linear_svc1000=SVC(kernel='linear', C=1000.0) \n",
        "linear_svc1000.fit(X_train, y_train)\n",
        "y_pred=linear_svc1000.predict(X_test)\n",
        "print('Model accuracy score with linear kernel and C=1000.0 : {0:0.4f}'. format(accuracy_score(y_test, y_pred)))"
      ],
      "execution_count": null,
      "outputs": [
        {
          "output_type": "stream",
          "name": "stdout",
          "text": [
            "0.9696969696969697\n",
            "Model accuracy score with linear kernel and C=1.0 : 0.9697\n",
            "Model accuracy score with linear kernel and C=10.0 : 0.9495\n",
            "Model accuracy score with linear kernel and C=100.0 : 0.9394\n",
            "Model accuracy score with linear kernel and C=1000.0 : 0.9495\n"
          ]
        }
      ]
    },
    {
      "cell_type": "markdown",
      "metadata": {
        "id": "6oaC1aEGDLNO"
      },
      "source": [
        "### Comparing the train-set and test-set accuracy"
      ]
    },
    {
      "cell_type": "code",
      "metadata": {
        "id": "SunWyej1DLNO",
        "colab": {
          "base_uri": "https://localhost:8080/"
        },
        "outputId": "1a64d532-b24e-4c8b-93f6-7a0b400e8382"
      },
      "source": [
        "y_pred_train = linear_svc.predict(X_train)\n",
        "\n",
        "y_pred_train"
      ],
      "execution_count": null,
      "outputs": [
        {
          "output_type": "execute_result",
          "data": {
            "text/plain": [
              "array([1, 0, 0, 0, 0, 1, 0, 1, 0, 1, 1, 0, 0, 1, 1, 0, 1, 0, 0, 0, 0, 0,\n",
              "       0, 1, 0, 0, 1, 1, 0, 1, 1, 1, 1, 0, 1, 1, 0, 0, 0, 1, 0, 1, 0, 0,\n",
              "       0, 1, 0, 1, 0, 1, 1, 0, 1, 0, 0, 1, 0, 0, 0, 0, 1, 1, 1, 0, 0, 0,\n",
              "       0, 1, 1, 0, 0, 0, 0, 0, 1, 1, 0, 1, 0, 0, 1, 1, 0, 1, 0, 1, 0, 1,\n",
              "       0, 1, 1, 0, 0, 1, 1, 1, 0, 0, 1, 1, 0, 0, 0, 0, 0, 0, 0, 0, 0, 0,\n",
              "       0, 1, 1, 0, 0, 0, 0, 0, 0, 0, 0, 1, 0, 1, 0, 0, 1, 0, 1, 0, 0, 0,\n",
              "       1, 1, 0, 0, 0, 1, 0, 0, 0, 1, 1, 1, 1, 1, 0, 0, 0, 0, 0, 0, 1, 1,\n",
              "       1, 0, 0, 0, 0, 0, 0, 0, 0, 0, 1, 1, 1, 1, 0, 0, 0, 1, 0, 0, 0, 1,\n",
              "       1, 0, 0, 0, 0, 0, 0, 0, 1, 0, 0, 1, 0, 1, 0, 1, 1, 0, 0, 1, 0, 1,\n",
              "       1, 1, 1, 1, 0, 1, 0, 0, 0, 0, 1, 0, 1, 1, 1, 0, 0, 0, 1, 0, 0, 1,\n",
              "       1, 0, 1, 0, 1, 0, 1, 1, 0, 0, 0, 0, 0, 0, 0, 0, 0, 0, 0, 0, 0, 1,\n",
              "       0, 1, 0, 0, 0, 0, 1, 1, 0, 1, 1, 0, 1, 0, 0, 0, 1, 0, 0, 0, 1, 1,\n",
              "       0, 0, 0, 0, 0, 0, 0, 1, 0, 0, 0, 0, 0, 1, 1, 0, 0, 0, 1, 0, 0, 0,\n",
              "       0, 1, 0, 0, 0, 0, 0, 0, 0, 0, 1, 0, 0, 0, 0, 0, 0, 1, 0, 0, 0, 1,\n",
              "       0, 1, 0, 0, 0, 0, 1, 0, 0, 0, 1, 1, 0, 1, 1, 0, 1, 0, 0, 0, 0, 0,\n",
              "       0, 0, 0, 1, 0, 1, 0, 0, 0, 0, 0, 1, 1, 0, 0, 1, 0, 1, 1, 0, 0, 1,\n",
              "       1, 0, 0, 1, 0, 0, 0, 0, 1, 1, 1, 0, 1, 0, 0, 0, 0, 0, 1, 0, 1, 0,\n",
              "       1, 0, 0, 0, 1, 1, 0, 0, 0, 1, 0, 0, 0, 0, 0, 0, 1, 1, 0, 0, 1])"
            ]
          },
          "metadata": {},
          "execution_count": 283
        }
      ]
    },
    {
      "cell_type": "code",
      "metadata": {
        "id": "GZlmzv1nDLNO",
        "colab": {
          "base_uri": "https://localhost:8080/"
        },
        "outputId": "ef7faa22-17e1-4d63-ebeb-07d509103854"
      },
      "source": [
        "print('Training-set accuracy score: {0:0.4f}'. format(accuracy_score(y_train, y_pred_train)))"
      ],
      "execution_count": null,
      "outputs": [
        {
          "output_type": "stream",
          "name": "stdout",
          "text": [
            "Training-set accuracy score: 0.9797\n"
          ]
        }
      ]
    },
    {
      "cell_type": "markdown",
      "metadata": {
        "id": "aEY3ytiVDLNO"
      },
      "source": [
        "The training set and test-set accuracy are very much comparable."
      ]
    },
    {
      "cell_type": "markdown",
      "metadata": {
        "id": "-B4oKrVNDLNP"
      },
      "source": [
        "### Check for overfitting and underfitting"
      ]
    },
    {
      "cell_type": "code",
      "metadata": {
        "id": "lBRBYiCMDLNP",
        "colab": {
          "base_uri": "https://localhost:8080/"
        },
        "outputId": "98449bab-1ac9-44ea-b10a-0eed87b99adb"
      },
      "source": [
        "# print the scores on training and test set\n",
        "\n",
        "print('Training set score: {:.4f}'.format(linear_svc.score(X_train, y_train)))\n",
        "\n",
        "print('Test set score: {:.4f}'.format(linear_svc.score(X_test, y_test)))"
      ],
      "execution_count": null,
      "outputs": [
        {
          "output_type": "stream",
          "name": "stdout",
          "text": [
            "Training set score: 0.9797\n",
            "Test set score: 0.9697\n"
          ]
        }
      ]
    },
    {
      "cell_type": "markdown",
      "metadata": {
        "id": "mCgIuKTuDLNQ"
      },
      "source": [
        "### Running SVM with polynomial kernel and C=1.0 and 100.0"
      ]
    },
    {
      "cell_type": "code",
      "metadata": {
        "id": "e0FZ9wVADLNR",
        "colab": {
          "base_uri": "https://localhost:8080/"
        },
        "outputId": "e5e82c0f-ce4a-4ef9-dea0-8c95132c9aef"
      },
      "source": [
        "#C=1.0\n",
        "poly_svc=SVC(kernel='poly', C=1.0) \n",
        "poly_svc.fit(X_train,y_train)\n",
        "y_pred=poly_svc.predict(X_test)\n",
        "print('Model accuracy score with polynomial kernel and C=1.0 : {0:0.4f}'. format(accuracy_score(y_test, y_pred)))\n",
        "\n",
        "\n",
        "#C=100.0\n",
        "poly_svc=SVC(kernel='poly', C=100.0) \n",
        "poly_svc.fit(X_train,y_train)\n",
        "y_pred=poly_svc.predict(X_test)\n",
        "print('Model accuracy score with polynomial kernel and C=100.0 : {0:0.4f}'. format(accuracy_score(y_test, y_pred)))"
      ],
      "execution_count": null,
      "outputs": [
        {
          "output_type": "stream",
          "name": "stdout",
          "text": [
            "Model accuracy score with polynomial kernel and C=1.0 : 0.8990\n",
            "Model accuracy score with polynomial kernel and C=100.0 : 0.8283\n"
          ]
        }
      ]
    },
    {
      "cell_type": "markdown",
      "metadata": {
        "id": "pjnCYpWjDLNT"
      },
      "source": [
        "## Confusion matrix\n",
        "\n",
        "\n",
        "A confusion matrix is a tool for summarizing the performance of a classification algorithm.\n",
        "Four types of outcomes are possible while evaluating a classification model performance. These four outcomes are:-\n",
        "\n",
        "**True Positives (TP)**\n",
        "\n",
        "**True Negatives (TN)**\n",
        "\n",
        "**False Positives (FP)**\n",
        "\n",
        "**False Negatives (FN)**"
      ]
    },
    {
      "cell_type": "code",
      "metadata": {
        "id": "wCxWrgMsDLNZ",
        "colab": {
          "base_uri": "https://localhost:8080/"
        },
        "outputId": "97bf314b-60f3-4c46-cdf5-7f96e22baef9"
      },
      "source": [
        "# Print the Confusion Matrix and slice it into four pieces\n",
        "\n",
        "from sklearn.metrics import confusion_matrix\n",
        "\n",
        "cm = confusion_matrix(y_test, y_pred_test)\n",
        "\n",
        "print('Confusion matrix\\n\\n', cm)\n",
        "\n",
        "print('\\nTrue Positives(TP) = ', cm[0,0])\n",
        "\n",
        "print('\\nTrue Negatives(TN) = ', cm[1,1])\n",
        "\n",
        "print('\\nFalse Positives(FP) = ', cm[0,1])\n",
        "\n",
        "print('\\nFalse Negatives(FN) = ', cm[1,0])"
      ],
      "execution_count": null,
      "outputs": [
        {
          "output_type": "stream",
          "name": "stdout",
          "text": [
            "Confusion matrix\n",
            "\n",
            " [[61  2]\n",
            " [ 1 35]]\n",
            "\n",
            "True Positives(TP) =  61\n",
            "\n",
            "True Negatives(TN) =  35\n",
            "\n",
            "False Positives(FP) =  2\n",
            "\n",
            "False Negatives(FN) =  1\n"
          ]
        }
      ]
    },
    {
      "cell_type": "markdown",
      "metadata": {
        "id": "-kLfUxaUDLNa"
      },
      "source": [
        "The confusion matrix shows `3289 + 230 = 3519 correct predictions` and `17 + 44 = 61 incorrect predictions`.\n",
        "\n",
        "\n",
        "In this case, we have\n",
        "\n",
        "\n",
        "- `True Positives` (Actual Positive:1 and Predict Positive:1) - 3289\n",
        "\n",
        "\n",
        "- `True Negatives` (Actual Negative:0 and Predict Negative:0) - 230\n",
        "\n",
        "\n",
        "- `False Positives` (Actual Negative:0 but Predict Positive:1) - 17 `(Type I error)`\n",
        "\n",
        "\n",
        "- `False Negatives` (Actual Positive:1 but Predict Negative:0) - 44 `(Type II error)`"
      ]
    },
    {
      "cell_type": "code",
      "metadata": {
        "id": "Pn7VcY4yDLNb",
        "colab": {
          "base_uri": "https://localhost:8080/",
          "height": 284
        },
        "outputId": "2285e1a3-550f-4a28-d834-74a1a148e31f"
      },
      "source": [
        "# visualize confusion matrix with seaborn heatmap\n",
        "\n",
        "cm_matrix = pd.DataFrame(data=cm, columns=['Actual Positive:1', 'Actual Negative:0'], \n",
        "                                 index=['Predict Positive:1', 'Predict Negative:0'])\n",
        "\n",
        "sns.heatmap(cm_matrix, annot=True, fmt='d', cmap='YlGnBu')"
      ],
      "execution_count": null,
      "outputs": [
        {
          "output_type": "execute_result",
          "data": {
            "text/plain": [
              "<matplotlib.axes._subplots.AxesSubplot at 0x7f4e28e804d0>"
            ]
          },
          "metadata": {},
          "execution_count": 288
        },
        {
          "output_type": "display_data",
          "data": {
            "image/png": "[encoded data removed]",
            "text/plain": [
              "<Figure size 432x288 with 2 Axes>"
            ]
          },
          "metadata": {
            "needs_background": "light"
          }
        }
      ]
    },
    {
      "cell_type": "markdown",
      "metadata": {
        "id": "EE_zhZMKDLNb"
      },
      "source": [
        "### Classification Report\n",
        "\n",
        "\n",
        "**Classification report** is another way to evaluate the classification model performance. It displays the  **precision**, **recall**, **f1** and **support** scores for the model. I have described these terms in later.\n",
        "\n",
        "We can print a classification report as follows:-"
      ]
    },
    {
      "cell_type": "code",
      "metadata": {
        "id": "SJ8-MIFADLNb",
        "colab": {
          "base_uri": "https://localhost:8080/"
        },
        "outputId": "8933dca3-bf54-410c-f052-1c6a3bc65155"
      },
      "source": [
        "from sklearn.metrics import classification_report\n",
        "\n",
        "print(classification_report(y_test, y_pred_test))"
      ],
      "execution_count": null,
      "outputs": [
        {
          "output_type": "stream",
          "name": "stdout",
          "text": [
            "              precision    recall  f1-score   support\n",
            "\n",
            "           0       0.98      0.97      0.98        63\n",
            "           1       0.95      0.97      0.96        36\n",
            "\n",
            "    accuracy                           0.97        99\n",
            "   macro avg       0.96      0.97      0.97        99\n",
            "weighted avg       0.97      0.97      0.97        99\n",
            "\n"
          ]
        }
      ]
    },
    {
      "cell_type": "markdown",
      "metadata": {
        "id": "4cECU1ZnDLNe"
      },
      "source": [
        "### Classification accuracy"
      ]
    },
    {
      "cell_type": "code",
      "metadata": {
        "id": "lwNbUPWwDLNe"
      },
      "source": [
        "TP = cm[0,0]\n",
        "TN = cm[1,1]\n",
        "FP = cm[0,1]\n",
        "FN = cm[1,0]"
      ],
      "execution_count": null,
      "outputs": []
    },
    {
      "cell_type": "code",
      "metadata": {
        "id": "URHr5UZBDLNe",
        "colab": {
          "base_uri": "https://localhost:8080/"
        },
        "outputId": "ed4f7123-0297-4afe-b662-e3629967d1cd"
      },
      "source": [
        "# print classification accuracy\n",
        "\n",
        "classification_accuracy = (TP + TN) / float(TP + TN + FP + FN)\n",
        "\n",
        "print('Classification accuracy : {0:0.4f}'.format(classification_accuracy))\n"
      ],
      "execution_count": null,
      "outputs": [
        {
          "output_type": "stream",
          "name": "stdout",
          "text": [
            "Classification accuracy : 0.9697\n"
          ]
        }
      ]
    },
    {
      "cell_type": "markdown",
      "metadata": {
        "id": "tpS-6FRXDLNf"
      },
      "source": [
        "### Classification error"
      ]
    },
    {
      "cell_type": "code",
      "metadata": {
        "id": "SfJ4cNkTDLNf",
        "colab": {
          "base_uri": "https://localhost:8080/"
        },
        "outputId": "f477ca01-a2e5-4930-a6bc-a42c962ddf25"
      },
      "source": [
        "# print classification error\n",
        "\n",
        "classification_error = (FP + FN) / float(TP + TN + FP + FN)\n",
        "\n",
        "print('Classification error : {0:0.4f}'.format(classification_error))\n"
      ],
      "execution_count": null,
      "outputs": [
        {
          "output_type": "stream",
          "name": "stdout",
          "text": [
            "Classification error : 0.0303\n"
          ]
        }
      ]
    },
    {
      "cell_type": "markdown",
      "metadata": {
        "id": "_Afi8gReDLNf"
      },
      "source": [
        "### Precision"
      ]
    },
    {
      "cell_type": "code",
      "metadata": {
        "id": "lKe_GhxIDLNf",
        "colab": {
          "base_uri": "https://localhost:8080/"
        },
        "outputId": "936e9c22-0965-4f54-cb5e-9a7fc7f422a9"
      },
      "source": [
        "# print precision score\n",
        "\n",
        "precision = TP / float(TP + FP)\n",
        "\n",
        "\n",
        "print('Precision : {0:0.4f}'.format(precision))\n"
      ],
      "execution_count": null,
      "outputs": [
        {
          "output_type": "stream",
          "name": "stdout",
          "text": [
            "Precision : 0.9683\n"
          ]
        }
      ]
    },
    {
      "cell_type": "markdown",
      "metadata": {
        "id": "4htlMKS5DLNf"
      },
      "source": [
        "### Recall"
      ]
    },
    {
      "cell_type": "code",
      "metadata": {
        "id": "pJwPNOJeDLNg",
        "colab": {
          "base_uri": "https://localhost:8080/"
        },
        "outputId": "cbcf613b-2761-4bf4-bf49-760856d7673c"
      },
      "source": [
        "recall = TP / float(TP + FN)\n",
        "\n",
        "print('Recall or Sensitivity : {0:0.4f}'.format(recall))"
      ],
      "execution_count": null,
      "outputs": [
        {
          "output_type": "stream",
          "name": "stdout",
          "text": [
            "Recall or Sensitivity : 0.9839\n"
          ]
        }
      ]
    },
    {
      "cell_type": "markdown",
      "metadata": {
        "id": "TPwqUQieDLNg"
      },
      "source": [
        "### True Positive Rate"
      ]
    },
    {
      "cell_type": "code",
      "metadata": {
        "id": "iSYWD3gSDLNg",
        "colab": {
          "base_uri": "https://localhost:8080/"
        },
        "outputId": "63e7da42-a5e9-48c7-b959-daf5774a3fdf"
      },
      "source": [
        "true_positive_rate = TP / float(TP + FN)\n",
        "\n",
        "\n",
        "print('True Positive Rate : {0:0.4f}'.format(true_positive_rate))"
      ],
      "execution_count": null,
      "outputs": [
        {
          "output_type": "stream",
          "name": "stdout",
          "text": [
            "True Positive Rate : 0.9839\n"
          ]
        }
      ]
    },
    {
      "cell_type": "markdown",
      "metadata": {
        "id": "ktbmL7WxDLNg"
      },
      "source": [
        "### False Positive Rate"
      ]
    },
    {
      "cell_type": "code",
      "metadata": {
        "id": "FMOUXqNiDLNh",
        "colab": {
          "base_uri": "https://localhost:8080/"
        },
        "outputId": "e82aa3e4-ba86-45b3-f8d4-db0eb02b6d9a"
      },
      "source": [
        "false_positive_rate = FP / float(FP + TN)\n",
        "\n",
        "\n",
        "print('False Positive Rate : {0:0.4f}'.format(false_positive_rate))"
      ],
      "execution_count": null,
      "outputs": [
        {
          "output_type": "stream",
          "name": "stdout",
          "text": [
            "False Positive Rate : 0.0541\n"
          ]
        }
      ]
    },
    {
      "cell_type": "markdown",
      "metadata": {
        "id": "gUkLeSW7DLNi"
      },
      "source": [
        "### Specificity"
      ]
    },
    {
      "cell_type": "code",
      "metadata": {
        "id": "4z_lzvWDDLNi",
        "colab": {
          "base_uri": "https://localhost:8080/"
        },
        "outputId": "18b8b3e9-c91a-4713-cf92-fd57a49ea11f"
      },
      "source": [
        "specificity = TN / (TN + FP)\n",
        "\n",
        "print('Specificity : {0:0.4f}'.format(specificity))"
      ],
      "execution_count": null,
      "outputs": [
        {
          "output_type": "stream",
          "name": "stdout",
          "text": [
            "Specificity : 0.9459\n"
          ]
        }
      ]
    },
    {
      "cell_type": "markdown",
      "metadata": {
        "id": "dEt3_bAgDLNj"
      },
      "source": [
        "### ROC Curve\n",
        "\n",
        "\n",
        "Another tool to measure the classification model performance visually is **ROC Curve**.\n",
        "The **ROC Curve** plots the **True Positive Rate (TPR)** against the **False Positive Rate (FPR)** at various threshold levels.\n"
      ]
    },
    {
      "cell_type": "code",
      "metadata": {
        "id": "MkNlCnRTDLNj",
        "colab": {
          "base_uri": "https://localhost:8080/"
        },
        "outputId": "197fb9f3-2799-4214-ea31-c89894be55e8"
      },
      "source": [
        "from sklearn.metrics import roc_curve\n",
        "fpr, tpr, thresholds = roc_curve(y_test, y_pred_test)\n",
        "plt.figure(figsize=(6,4))\n",
        "plt.plot(fpr, tpr, linewidth=2)\n",
        "plt.plot([0,1], [0,1], 'k--' )\n",
        "plt.rcParams['font.size'] = 12\n",
        "plt.xlabel('False Positive Rate (1 - Specificity)')\n",
        "plt.ylabel('True Positive Rate (Sensitivity)')\n",
        "plt.show()"
      ],
      "execution_count": null,
      "outputs": [
        {
          "output_type": "display_data",
          "data": {
            "image/png": "[encoded data removed]",
            "text/plain": [
              "<Figure size 432x288 with 1 Axes>"
            ]
          },
          "metadata": {
            "needs_background": "light"
          }
        }
      ]
    },
    {
      "cell_type": "code",
      "metadata": {
        "id": "WYvesm6PDLNk",
        "colab": {
          "base_uri": "https://localhost:8080/"
        },
        "outputId": "a242e885-9957-4134-e922-3caa6b5806e6"
      },
      "source": [
        "from sklearn.metrics import roc_auc_score\n",
        "ROC_AUC = roc_auc_score(y_test, y_pred_test)\n",
        "print('ROC AUC : {:.4f}'.format(ROC_AUC))"
      ],
      "execution_count": null,
      "outputs": [
        {
          "output_type": "stream",
          "name": "stdout",
          "text": [
            "ROC AUC : 0.9702\n"
          ]
        }
      ]
    },
    {
      "cell_type": "markdown",
      "metadata": {
        "id": "Y-bIWjMgDLNl"
      },
      "source": [
        "\n",
        "The higher the value of ROC AUC, the better the classifier. ROC AUC of our model approaches towards 1. So, we can conclude that our classifier does a good job."
      ]
    },
    {
      "cell_type": "markdown",
      "metadata": {
        "id": "bgMb_IHGDLNm"
      },
      "source": [
        "k-fold cross-validation is a very useful technique to evaluate model performance. But, it fails here because we have a imbalanced dataset."
      ]
    },
    {
      "cell_type": "markdown",
      "metadata": {
        "id": "FrAMHqNoDLNn"
      },
      "source": [
        "### Stratified k-Fold Cross Validation with shuffle split with  linear kernel"
      ]
    },
    {
      "cell_type": "code",
      "metadata": {
        "id": "UP103LqpDLNn"
      },
      "source": [
        "from sklearn.model_selection import KFold\n",
        "\n",
        "\n",
        "kfold=KFold(n_splits=5, shuffle=True, random_state=0)\n",
        "\n",
        "\n",
        "linear_svc=SVC(kernel='linear')\n",
        "\n",
        "\n",
        "linear_scores = cross_val_score(linear_svc, X, y, cv=kfold)\n"
      ],
      "execution_count": null,
      "outputs": []
    },
    {
      "cell_type": "code",
      "metadata": {
        "id": "pkZ58rHODLNo",
        "colab": {
          "base_uri": "https://localhost:8080/"
        },
        "outputId": "c8bab93f-fd76-4003-a990-d3aac93da400"
      },
      "source": [
        "# print cross-validation scores with linear kernel\n",
        "\n",
        "print('Stratified cross-validation scores with linear kernel:\\n\\n{}'.format(linear_scores))"
      ],
      "execution_count": null,
      "outputs": [
        {
          "output_type": "stream",
          "name": "stdout",
          "text": [
            "Stratified cross-validation scores with linear kernel:\n",
            "\n",
            "[0.82828283 0.90909091 0.85858586 0.92929293 0.89795918]\n"
          ]
        }
      ]
    },
    {
      "cell_type": "code",
      "metadata": {
        "id": "KZb_2ASyDLNo",
        "colab": {
          "base_uri": "https://localhost:8080/"
        },
        "outputId": "4ed6cc46-86b3-45a6-e473-8a36e613c3e7"
      },
      "source": [
        "# print average cross-validation score with linear kernel\n",
        "\n",
        "print('Average stratified cross-validation score with linear kernel:{:.4f}'.format(linear_scores.mean()))"
      ],
      "execution_count": null,
      "outputs": [
        {
          "output_type": "stream",
          "name": "stdout",
          "text": [
            "Average stratified cross-validation score with linear kernel:0.8846\n"
          ]
        }
      ]
    },
    {
      "cell_type": "markdown",
      "metadata": {
        "id": "YIgCyUF2DLNo"
      },
      "source": [
        "### Stratified k-Fold Cross Validation with shuffle split with rbf kernel"
      ]
    },
    {
      "cell_type": "code",
      "metadata": {
        "id": "VFWg3AzhDLNp"
      },
      "source": [
        "rbf_svc=SVC(kernel='rbf')\n",
        "\n",
        "\n",
        "rbf_scores = cross_val_score(rbf_svc, X, y, cv=kfold)"
      ],
      "execution_count": null,
      "outputs": []
    },
    {
      "cell_type": "code",
      "metadata": {
        "id": "_30c4VjJDLNp",
        "colab": {
          "base_uri": "https://localhost:8080/"
        },
        "outputId": "813cd1e6-a657-4c58-e8c9-b051d2b622bf"
      },
      "source": [
        "# print cross-validation scores with rbf kernel\n",
        "\n",
        "print('Stratified Cross-validation scores with rbf kernel:\\n\\n{}'.format(rbf_scores))"
      ],
      "execution_count": null,
      "outputs": [
        {
          "output_type": "stream",
          "name": "stdout",
          "text": [
            "Stratified Cross-validation scores with rbf kernel:\n",
            "\n",
            "[0.57575758 0.67676768 0.67676768 0.65656566 0.6122449 ]\n"
          ]
        }
      ]
    },
    {
      "cell_type": "code",
      "metadata": {
        "id": "ZkQNxmKHDLNp",
        "colab": {
          "base_uri": "https://localhost:8080/"
        },
        "outputId": "f5d1f065-34c4-4794-8c9b-64cdeaef6f22"
      },
      "source": [
        "# print average cross-validation score with rbf kernel\n",
        "\n",
        "print('Average stratified cross-validation score with rbf kernel:{:.4f}'.format(rbf_scores.mean()))"
      ],
      "execution_count": null,
      "outputs": [
        {
          "output_type": "stream",
          "name": "stdout",
          "text": [
            "Average stratified cross-validation score with rbf kernel:0.6396\n"
          ]
        }
      ]
    },
    {
      "cell_type": "markdown",
      "metadata": {
        "id": "dHEgHqFSDLNp"
      },
      "source": [
        "Higher average stratified k-fold cross-validation score of 0.8846 with linear kernel but the model accuracy is 0.9899.\n",
        "So, stratified cross-validation technique does not help to improve the model performance."
      ]
    },
    {
      "cell_type": "code",
      "metadata": {
        "colab": {
          "base_uri": "https://localhost:8080/"
        },
        "id": "L4pw9KANQ3nJ",
        "outputId": "8a94d1d2-1421-4898-9034-06e173483429"
      },
      "source": [
        "print(pred_log)\n",
        "print(pred_rand)\n",
        "print(pred_svm)\n",
        "print(pred_adab)\n",
        "sum_final=pred_log*acc_log+pred_rand*acc_rand+pred_svm*acc_svm+pred_adab*acc_adab\n",
        "\n",
        "#print(sum_final)\n",
        "\n",
        "sum_final=sum_final/4\n",
        "\n"
      ],
      "execution_count": null,
      "outputs": [
        {
          "output_type": "stream",
          "name": "stdout",
          "text": [
            "[0 0 0 0 0 0 0 0 0 0 0 1 1 1 0 0 0 0 0 0 0 1 1 0 1 1 0 0 0 0 1 0 0 0 1 0 0\n",
            " 0 1 0 0 0 0 1 1 1 0 1 0 0 1 1 0 0 0 0 0 0 1 1 0 0 1 0 0 1 0 0 1 0 0 1 0 0\n",
            " 0 0 0 1 0 1 1 0 1 0 0 0 1 1 1 1 1 0 1 0 1 0 0 1 1]\n",
            "[0 0 0 0 0 0 0 0 0 0 0 1 1 0 0 0 0 0 0 1 0 1 1 0 1 1 0 0 0 0 0 0 0 1 0 0 0\n",
            " 0 1 1 0 0 0 0 0 0 0 1 1 0 1 1 0 0 0 0 0 0 1 0 0 0 1 0 0 1 0 0 1 0 0 1 0 0\n",
            " 0 0 0 1 0 0 1 0 1 0 0 0 0 1 1 1 0 0 1 0 1 0 0 1 1]\n",
            "[0 0 0 0 0 0 0 0 0 0 0 1 1 1 0 0 0 0 0 0 0 1 1 0 1 1 0 0 1 0 1 0 0 0 1 0 0\n",
            " 0 1 0 0 0 0 1 1 1 0 1 1 0 1 1 0 0 0 0 0 0 1 1 0 0 1 0 0 1 0 0 1 0 0 1 0 0\n",
            " 0 0 0 1 0 1 1 0 1 0 0 0 1 1 1 1 1 0 1 0 1 0 0 1 1]\n",
            "[0 0 0 0 0 0 0 0 0 0 0 1 1 1 0 0 0 0 0 0 0 1 1 0 1 1 0 0 0 0 1 0 0 0 1 0 0\n",
            " 0 1 1 0 0 0 0 1 0 0 1 0 1 1 1 0 0 0 0 0 0 1 1 0 0 1 0 0 1 0 0 1 1 0 1 0 0\n",
            " 0 0 0 1 0 0 1 0 1 0 0 0 0 1 1 1 1 0 1 0 1 0 0 1 1]\n"
          ]
        }
      ]
    },
    {
      "cell_type": "code",
      "metadata": {
        "colab": {
          "base_uri": "https://localhost:8080/"
        },
        "id": "KcLK5G9nZOxj",
        "outputId": "4b5d6640-dc61-4305-d095-75c6900b519e"
      },
      "source": [
        "final_pred=np.zeros(99)\n",
        "c=0\n",
        "for x in sum_final:\n",
        "  if(x>=0.5):\n",
        "    final_pred[c]=1\n",
        "    c=c+1\n",
        "  else:\n",
        "    final_pred[c]=0\n",
        "    c=c+1\n",
        "\n",
        "print(final_pred)"
      ],
      "execution_count": null,
      "outputs": [
        {
          "output_type": "stream",
          "name": "stdout",
          "text": [
            "[0. 0. 0. 0. 0. 0. 0. 0. 0. 0. 0. 1. 1. 1. 0. 0. 0. 0. 0. 0. 0. 1. 1. 0.\n",
            " 1. 1. 0. 0. 0. 0. 1. 0. 0. 0. 1. 0. 0. 0. 1. 0. 0. 0. 0. 0. 1. 0. 0. 1.\n",
            " 0. 0. 1. 1. 0. 0. 0. 0. 0. 0. 1. 1. 0. 0. 1. 0. 0. 1. 0. 0. 1. 0. 0. 1.\n",
            " 0. 0. 0. 0. 0. 1. 0. 0. 1. 0. 1. 0. 0. 0. 0. 1. 1. 1. 1. 0. 1. 0. 1. 0.\n",
            " 0. 1. 1.]\n"
          ]
        }
      ]
    },
    {
      "cell_type": "code",
      "metadata": {
        "colab": {
          "base_uri": "https://localhost:8080/"
        },
        "id": "KpSeOxjvaYQw",
        "outputId": "58e15046-c3e6-45de-8fe3-3c78ee8dbaee"
      },
      "source": [
        "test_data_accuracy = accuracy_score(final_pred, y_test)\n",
        "print(test_data_accuracy)"
      ],
      "execution_count": null,
      "outputs": [
        {
          "output_type": "stream",
          "name": "stdout",
          "text": [
            "0.9494949494949495\n"
          ]
        }
      ]
    }
  ]
}